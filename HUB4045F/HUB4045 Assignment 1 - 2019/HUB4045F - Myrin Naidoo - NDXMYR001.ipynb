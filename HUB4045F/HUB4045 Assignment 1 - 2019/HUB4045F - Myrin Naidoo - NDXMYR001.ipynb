{
 "cells": [
  {
   "cell_type": "markdown",
   "metadata": {
    "slideshow": {
     "slide_type": "slide"
    }
   },
   "source": [
    "<h1> HUB4045F Assignment 1: Myrin Naidoo  -  NDXMYR001</h1>\n",
    "Total marks for this assignment 80\n",
    "\n",
    "Due date: 6 March 2019 @ 23h59.\n"
   ]
  },
  {
   "cell_type": "markdown",
   "metadata": {
    "slideshow": {
     "slide_type": "slide"
    }
   },
   "source": [
    "### Instructions :\n",
    "- Solutions to be submitted as a Jupyter notebook called \"__HUB4045F - Yourname - Your student number\"__.\n",
    "- Explanations to questions should be done in formatted markdown cells. Code should be presented in code cells. \n",
    "- All required libraries for your code to run should be clearly stated at the beginning of the notebook with full instructions of how to install them.\n",
    "- All code should be well commented.\n",
    "- Part marks will be given for non running code provided that an explanation is provided for why the code is not working.\n",
    "- Add appropriate references to other peoples work or code. \n",
    "- Please use relative paths for any images, videos you embed and of course you will need to upload them with your python file when submitting. Please zip the full list of files.\n",
    "\n",
    "- NB We will submit the code for similarity tests (http://www.tareeinternet.com/scripts/comparison-tool/). As much as we encourage sharing ideas and working together its important that the final submission be individual work."
   ]
  },
  {
   "cell_type": "markdown",
   "metadata": {
    "slideshow": {
     "slide_type": "slide"
    }
   },
   "source": [
    "### Question 1: [5 marks]\n",
    "\n",
    "<center> <img src=\"./TOMO_gif_CT_Kesner.gif\",width=600,height=600> </center> \n",
    "\n",
    "Provide a brief description using mathematical notation of what is ocurring in this GIF. "
   ]
  },
  {
   "cell_type": "markdown",
   "metadata": {
    "slideshow": {
     "slide_type": "slide"
    }
   },
   "source": [
    "### _Question 1 Answer_\n",
    "\n",
    "The sinogram shows the intesity at diffent angles of the x-ray beam. With a single angle of attack it is impossible to determine a full picture of a cross section. The series of parralell beams would go though bone, catilage and soft tissue, but it would be impossible to tell how much of it was from each tissue. It gives the very flat scan of a traditional x-ray as it is the overall loss of intensity. By getting scans, while rotating 180 degrees, and then overlapping them we can get a full cross section of the disired loaction. The sinogram will be shown as seperate scans and overlapped to achieve the cross section picture.\n",
    "\n",
    "Mathamatically, first a radon transform at each projection(set of parallel beams) must be taken. This uses a t and $\\theta$ value. \n",
    "\n",
    "A Radon transform is calculated by the following equation. Rf is a function of t and $\\theta$. f is a function of x and y.:\n",
    "\n",
    "\\begin{align}\n",
    "\\mathcal{R} f(t,\\theta ) & = \\int_{l_{t,\\theta}}^{} f ds \\\\\n",
    "& = \\int_{s=-\\infty}^{\\infty} f(t \\cos(\\theta) - s\\sin(\\theta),t \\sin(\\theta) + s\\cos(\\theta)) ds.\n",
    "\\end{align}\n",
    "\n",
    "The $\\theta$ value is changed as the angle changes. The darker the section, the less loss of intensity of the beam."
   ]
  },
  {
   "cell_type": "markdown",
   "metadata": {
    "slideshow": {
     "slide_type": "slide"
    }
   },
   "source": [
    "### _Question 2 [15 marks]_\n",
    "\n",
    "#### _Consider a ${3}$ x ${3}$ grid in which each of the nine squares is shaded either black or white_. \n",
    "Find all possible grids for which  which Rows 1 and 2 each have two white squares and Row 3 has one white square; Columns 1 and 3 each have one white square and Column 2 has three white squares. \n",
    "__NB You can DISPLAY your answer in code by modifying the code snippets from lecture 2 - CT mathematical models__.   "
   ]
  },
  {
   "cell_type": "markdown",
   "metadata": {
    "slideshow": {
     "slide_type": "slide"
    }
   },
   "source": [
    "### _Question 2 Answer_\n",
    "#### _Explanation _\n",
    "\n",
    "A 3x3 grid usually has $9!$ possible combinations in this binary pattern. In total there should be 5 white squares, out of the 9 total squares. This leaves us with 126 combinations or $(9!/(5!4!))$. In the picture below i've put in the middle column in with regards to the specifications. From this there are only two posible configurations. I have written the number of white blocks in each row and column in the diagram. Both are shown by the code in the next cell.\n",
    "<center> <img src=\"./capture.png\",width=300,height=300> </center> \n",
    "\n",
    "\n",
    "#### _Modifeid code from lecture in next cell_"
   ]
  },
  {
   "cell_type": "code",
   "execution_count": 2,
   "metadata": {
    "slideshow": {
     "slide_type": "slide"
    }
   },
   "outputs": [
    {
     "name": "stdout",
     "output_type": "stream",
     "text": [
      "[[0, 1, 1], [1, 1, 0], [0, 1, 0]]\n",
      "[[1, 1, 0], [0, 1, 1], [0, 1, 0]]\n",
      "The number of grids, shown below, satisfying the constraints is 2\n"
     ]
    },
    {
     "data": {
      "image/png": "[encoded data removed]",
      "text/plain": [
       "<Figure size 864x144 with 5 Axes>"
      ]
     },
     "metadata": {
      "needs_background": "light"
     },
     "output_type": "display_data"
    }
   ],
   "source": [
    "import numpy as np\n",
    "import matplotlib.pyplot as plt\n",
    "fig, axs = plt.subplots(1, 5, squeeze=False, figsize=(12, 2))\n",
    "\n",
    "# Counter for number of grids which fit constraints\n",
    "counterA = 0;\n",
    "\n",
    "# Assign values to grid and test\n",
    "for gridNum in range (0, 512):\n",
    "# Create grid\n",
    "    row1Whites = row2Whites = row3Whites = col1Whites = col2Whites = col3Whites = 0;\n",
    "    curGrid = [[0, 0, 0], [0, 0, 0], [0, 0, 0]];\n",
    "    temp = gridNum;\n",
    "    if ((temp - 256) >= 0 ):\n",
    "        curGrid[0][0] = 1;\n",
    "        temp -= 256;\n",
    "    if ((temp - 128) >= 0 ):\n",
    "        curGrid[0][1] = 1;\n",
    "        temp -= 128;\n",
    "    if ((temp - 64) >= 0 ):\n",
    "        curGrid[0][2] = 1;\n",
    "        temp -= 64;\n",
    "    if ((temp - 32) >= 0 ):\n",
    "        curGrid[1][0] = 1;\n",
    "        temp -= 32;\n",
    "    if ((temp - 16) >= 0 ):\n",
    "        curGrid[1][1] = 1;\n",
    "        temp -= 16;\n",
    "    if ((temp - 8) >= 0 ):\n",
    "        curGrid[1][2] = 1;\n",
    "        temp -= 8;\n",
    "    if ((temp - 4) >= 0 ):\n",
    "        curGrid[2][0] = 1; \n",
    "        temp -= 4;\n",
    "    if ((temp - 2) >= 0 ):\n",
    "        curGrid[2][1] = 1;\n",
    "        temp -= 2;\n",
    "    if ((temp - 1) >= 0 ):\n",
    "        curGrid[2][2] = 1\n",
    "# Test Constraints \n",
    "    for col in range (0, 3):\n",
    "        if (curGrid[0][col] == 1):\n",
    "            row1Whites += 1;\n",
    "        if (curGrid[1][col] == 1):\n",
    "            row2Whites += 1;\n",
    "        if (curGrid[2][col] == 1):\n",
    "            row3Whites += 1;\n",
    "    for row in range (0, 3):\n",
    "        if (curGrid[row][0] == 1):\n",
    "            col1Whites += 1;\n",
    "        if (curGrid[row][1] == 1):\n",
    "            col2Whites += 1;\n",
    "        if (curGrid[row][2] == 1):\n",
    "            col3Whites += 1;\n",
    "    if (row1Whites == 2 and row2Whites == 2 and row3Whites == 1 and col1Whites == 1 and col2Whites == 3 and col3Whites == 1):\n",
    "# Count and display each grid which satisfies constraints\n",
    "        counterA += 1;\n",
    "        print(curGrid);\n",
    "        image = np.array(curGrid);\n",
    "        axs[0,(counterA-1)].imshow(image, cmap=plt.cm.Greys_r)\n",
    "        axs[0,(counterA-1)].set_yticklabels([])\n",
    "        axs[0,(counterA-1)].set_xticklabels([])\n",
    "print (\"The number of grids, shown below, satisfying the constraints is %(num)d\" % {\"num\": counterA});"
   ]
  },
  {
   "cell_type": "markdown",
   "metadata": {
    "slideshow": {
     "slide_type": "slide"
    }
   },
   "source": [
    "### _Question 3 [15 marks]_\n",
    "\n",
    "Find values of ${t}$ and ${\\theta}$  for which the line ${l_{t,{\\theta}}}$ is the same as the line with equation ${\\sqrt{3}x+y=4}$. \n",
    "\n",
    "__(You can show step by step in the notebook or you can just read in an image of the step by step process).__"
   ]
  },
  {
   "cell_type": "markdown",
   "metadata": {
    "slideshow": {
     "slide_type": "slide"
    }
   },
   "source": [
    "### _Question 3 Answer_\n",
    "\n",
    "$y + \\sqrt{3}x = 4$\n",
    "\n",
    "$\\frac{1}{\\sqrt{3}}y + x = \\frac{4}{\\sqrt{3}}$\n",
    "\n",
    "$xcos\\theta + ysin\\theta = t$\n",
    "\n",
    "$cos\\theta = 1$ ; $sin\\theta = \\frac{1}{\\sqrt{3}}$\n",
    "\n",
    "$ tan\\theta = \\frac{1}{\\sqrt{3}}$\n",
    "\n",
    "$\\theta = 30 degrees = \\frac{\\pi}{6} rad$\n",
    "\n",
    "$t = \\frac{\\vert a(x_0)+b(y_0)+c\\vert}{\\sqrt{a^2+b^2}}\n",
    "   = \\frac{\\vert 0+0+4\\vert}{\\sqrt{1+3}}\n",
    "   = 2 $"
   ]
  },
  {
   "cell_type": "markdown",
   "metadata": {
    "slideshow": {
     "slide_type": "slide"
    }
   },
   "source": [
    "### Question 4: [20 marks]\n",
    "\n",
    "#### Consider the function: \n",
    "\n",
    "#### <center>${f(x,y) := \\begin{cases} \n",
    "      1 & if \\mid x \\mid \\leq 1 \\textrm{and} \\mid y\\mid  \\leq 1,\\\\\n",
    "      0 & otherwise.\n",
    "   \\end{cases}}$ </center>\n",
    "\n",
    "#### (That is, ${f}$ has the value ${1}$ inside the square where ${-1 \\leq x \\leq 1}$ and ${-1 \\leq y \\leq 1}$, and the value ${0}$ outside this square.) \n",
    "\n",
    "a) Plot the graph of the function ${\\mathcal{R} f(t, 0)}$, the Radon transform of ${f}$ corresponding to the angle ${\\theta = 0}$. Then find a formula for ${\\mathcal{R} f(t, 0)}$ as a function of ${f}$. \n",
    "\n",
    "b) Plot  the graph of the function ${\\mathcal{R} f(t, \\pi/4)}$, the Radon transform of ${f}$ corresponding to the angle ${ \\theta = \\pi/4}$. Then find a formula for ${\\mathcal{R} f(t, \\pi/4)}$ as a function of t. \n",
    "\n",
    "c) For ${\\theta}$ with ${0 \\leq \\theta \\leq \\pi/4}$, find relationships, if any, between ${\\mathcal{R} f(t, \\theta)}$, ${\\mathcal{R} f(t, \\pi/2-\\theta)}$, ${\\mathcal{R} f(t,\\theta+\\pi/2)}$ and ${\\mathcal{R} f(t,\\pi-\\theta)}$."
   ]
  },
  {
   "cell_type": "markdown",
   "metadata": {
    "slideshow": {
     "slide_type": "slide"
    }
   },
   "source": [
    "### Question 4 Answer\n",
    "\n",
    "#### Part A: \n",
    "\n",
    "\\begin{align}\n",
    "{|t| \\leq 1} \\\\\n",
    "\\mathcal{R} f(t,\\theta ) & = \\int_{l_{t,\\theta}}^{} f ds \\\\\n",
    "\\mathcal{R} f(1,0 ) & = \\int_{l_{1,0}}^{} f ds \\\\\n",
    "& = \\int_{s=-\\infty}^{\\infty} f(1 \\cos(0) - s\\sin(0),1 \\sin(0) + s\\cos(0)) ds.\\\\\n",
    "& = 2 \\int_{s=0}^{\\infty} f(1 ,s) ds.\\\\\n",
    "& = 2 \\int_{s=0}^{1} f(1 ,s) ds. + 2 \\int_{s=1}^{\\infty} f(1 ,s) ds.\\\\\n",
    "& = 2 + 0\\\\\n",
    "& = 2 units^2\\\\\n",
    "\\end{align}\n",
    "<br>\n",
    "<center><img src=\"./4a.JPG\",width=400,height=300></center> \n",
    "\n"
   ]
  },
  {
   "cell_type": "markdown",
   "metadata": {
    "slideshow": {
     "slide_type": "slide"
    }
   },
   "source": [
    "\n",
    "#### Part B: \n",
    "\n",
    "\\begin{align}\n",
    "{|t| \\leq 1} \\\\\n",
    "\\mathcal{R} f(t,\\theta ) & = \\int_{l_{t,\\theta}}^{} f ds \\\\\n",
    "\\mathcal{R} f(1,\\pi/4 ) & = \\int_{l_{1,\\pi/4}}^{} f ds \\\\\n",
    "& = \\int_{s=-\\infty}^{\\infty} f(1 \\cos(\\pi/4) - s\\sin(\\pi/4),1 \\sin(\\pi/4) + s\\cos(\\pi/4)) ds.\\\\\n",
    "& = 4*2/2\\\\\n",
    "& = 4 units^2 \n",
    "\\end{align}\n",
    "\n",
    "\n",
    "<br>\n",
    "<center><img src=\"./4b1.JPG\",width=500,height=300></center> \n",
    "\n"
   ]
  },
  {
   "cell_type": "markdown",
   "metadata": {},
   "source": [
    "#### Part C: \n",
    "\n",
    "The position of the origin would change but the shape should not change"
   ]
  },
  {
   "cell_type": "code",
   "execution_count": 15,
   "metadata": {},
   "outputs": [
    {
     "data": {
      "image/png": "[encoded data removed]",
      "text/plain": [
       "<Figure size 720x324 with 2 Axes>"
      ]
     },
     "metadata": {
      "needs_background": "light"
     },
     "output_type": "display_data"
    }
   ],
   "source": [
    "# Source: (Stéfan van der Walt, Johannes L. Schönberger, Juan Nunez-Iglesias, François Boulogne, Joshua D. Warner, \n",
    "# Neil Yager, Emmanuelle Gouillart, Tony Yu and the scikit-image contributors. scikit-image: Image processing in Python. \n",
    "# PeerJ 2:e453 (2014) http://dx.doi.org/10.7717/peerj.453)\n",
    "\n",
    "# Note this requires downloading the skimage package for python. Its available here --- http://scikit-image.org/\n",
    "# Edited by Myrin Naidoo to accept parameters for practical 1\n",
    "\n",
    "\n",
    "from __future__ import print_function, division\n",
    "\n",
    "import numpy as np\n",
    "import matplotlib.pyplot as plt\n",
    "\n",
    "from skimage.io import imread\n",
    "from skimage import data_dir\n",
    "from skimage.transform import radon, rescale\n",
    "\n",
    "image = imread(\"./square.png\", as_grey=True)\n",
    "image = rescale(image, scale=0.8, mode='reflect')\n",
    "\n",
    "fig, (ax1, ax2) = plt.subplots(1, 2, figsize=(10, 4.5))\n",
    "\n",
    "ax1.set_title(\"Original\")\n",
    "ax1.imshow(image, cmap=plt.cm.Greys_r)\n",
    "\n",
    "theta = np.linspace(0., 180., max(image.shape), endpoint=False)\n",
    "sinogram = radon(image, theta=theta, circle=True)\n",
    "ax2.set_title(\"Radon transform\\n(Sinogram)\")\n",
    "ax2.set_xlabel(\"Projection angle (deg)\")\n",
    "ax2.set_ylabel(\"Projection position (pixels)\")\n",
    "ax2.imshow(sinogram, cmap=plt.cm.Greys_r,\n",
    "           extent=(0, 180, 0, sinogram.shape[0]), aspect='auto')\n",
    "\n",
    "fig.tight_layout()\n",
    "plt.show()\n",
    "\n"
   ]
  },
  {
   "cell_type": "markdown",
   "metadata": {
    "slideshow": {
     "slide_type": "slide"
    }
   },
   "source": [
    "### Question 5: [10 marks]\n",
    "Provide a proof of the central slice theorem, starting with the expression ${\\mathcal{F}(\\mathcal{R}f)(S,\\theta)}$  and ending with ${\\mathcal{F}_2 f (S \\cos (\\theta), S \\sin(\\theta))}$\n",
    "\n"
   ]
  },
  {
   "cell_type": "markdown",
   "metadata": {},
   "source": [
    "### Question 5 Answer\n",
    "\n",
    "\\begin{align}\n",
    "\\mathcal{F}(\\mathcal{R}f)(S,\\theta) & = \\int_{t=-\\infty}^{\\infty} \\mathcal{R}f(S,\\theta)e^{-its} dt.\\\\\n",
    "& = \\int_{t=-\\infty}^{\\infty} \\mathcal{f}(t\\omega +s\\omega\\perp)e^{-its} dt.\\\\\n",
    "t = \\omega x \\\\\n",
    "& = xcos(\\theta) + ysin(\\theta)\\\\\n",
    "s = \\omega\\perp x\\\\\n",
    "&= -xsin(\\theta) + ycos(\\theta)\\\\\n",
    "Jacobian = \\cos^2(\\theta) + \\sin^2(\\theta) = 1\\\\\n",
    "\\int_{y=-\\infty}^{\\infty} \\int_{x=-\\infty}^{\\infty}\\mathcal{f}(x,y)e^{-i(x\\cos(\\theta)+ysin(\\theta))s} dxdy\\\\\n",
    "= \\int_{y=-\\infty}^{\\infty} \\int_{x=-\\infty}^{\\infty}\\mathcal{f}(x,y)e^{-isx\\cos(\\theta)}e^{-isysin(\\theta)} dxdy \\\\\n",
    "\\end{align}\n",
    "&nbsp;&nbsp;&nbsp; = &nbsp;&nbsp;${\\mathcal{F}_2 f (S \\cos (\\theta), S \\sin(\\theta))}$"
   ]
  },
  {
   "cell_type": "markdown",
   "metadata": {
    "slideshow": {
     "slide_type": "slide"
    }
   },
   "source": [
    "### Question 6: [15 marks]\n",
    "\n",
    "#### For any suitable function ${f}$ defined in the plane and all real numbers ${S}$ and ${\\theta}$, \n",
    "<br>\n",
    "\n",
    "<center> <font color='red'> ${f(x,y) = \\frac{1}{2} \\mathcal{B} \\{ \\mathcal{F}^{-1} [\\mid S \\mid \\mathcal{F}(\\mathcal{R}f)(S,\\theta)]\\}(x,y)}$ </font> </center> \n",
    "\n",
    "Show in steps a proof for the above equation "
   ]
  },
  {
   "cell_type": "markdown",
   "metadata": {},
   "source": [
    "### Question 6 Answer\n",
    "\\begin{align}\n",
    "f(x,y) &= \\mathcal{F}^{-1} \\{ \\mathcal{F}^{} f(x,y) \\}\\\\\n",
    "&= \\int_{v=-\\infty}^{\\infty} \\int_{u=-\\infty}^{\\infty} F(v,u)e^{2i\\pi(vx +vy)} dudv\\\\\n",
    "&= \\int_{v=-\\infty}^{\\infty} \\int_{u=-\\infty}^{\\infty} F(v,u)e^{2i\\pi(vx +vy)} dudv\\\\\n",
    "\\mathcal{R}f &= F(\\omega\\cos\\theta,\\omega\\sin\\theta)e^{2i\\pi(vx +vy)}\\\\\n",
    "f(x,y) &= \\frac{1}{2} \\mathcal{B} \\{\\int_{v=-\\infty}^{\\infty} \\int_{u=-\\infty}^{\\infty} F(v,u)e^{2is\\pi(x\\cos\\theta +y\\sin\\theta)} dudv\\}\\\\\n",
    "&= \\frac{1}{2} \\mathcal{B} \\{\\int_{v=-\\infty}^{\\infty} \\int_{u=-\\infty}^{\\infty} |S|F(S,\\theta)e^{2ist\\pi} dudv\\}\\\\\n",
    "& = \\frac{1}{2} \\mathcal{B} \\{ \\mathcal{F}^{-1} [\\mid S \\mid \\mathcal{F}(\\mathcal{R}f)(S,\\theta)]\\}(x,y)\n",
    "\\end{align}\n",
    "\n",
    "$\\frac{1}{2} \\mathcal{B}$ scales it back to normal and returns it to the (x,y) domain "
   ]
  },
  {
   "cell_type": "markdown",
   "metadata": {},
   "source": []
  },
  {
   "cell_type": "code",
   "execution_count": null,
   "metadata": {
    "slideshow": {
     "slide_type": "-"
    }
   },
   "outputs": [],
   "source": []
  }
 ],
 "metadata": {
  "celltoolbar": "Slideshow",
  "kernelspec": {
   "display_name": "Python 3",
   "language": "python",
   "name": "python3"
  },
  "language_info": {
   "codemirror_mode": {
    "name": "ipython",
    "version": 3
   },
   "file_extension": ".py",
   "mimetype": "text/x-python",
   "name": "python",
   "nbconvert_exporter": "python",
   "pygments_lexer": "ipython3",
   "version": "3.7.1"
  }
 },
 "nbformat": 4,
 "nbformat_minor": 2
}
